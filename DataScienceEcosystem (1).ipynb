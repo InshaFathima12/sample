{
 "cells": [
  {
   "cell_type": "markdown",
   "id": "b3dff0c6-01e3-4ef7-91a6-8ff53a95f176",
   "metadata": {},
   "source": [
    "# Data Science Tools and Ecosystem"
   ]
  },
  {
   "cell_type": "markdown",
   "id": "15ff428c-3c9f-4f33-b7a5-6b04a47f3c5b",
   "metadata": {},
   "source": [
    "In this notebook, Data Science Tools and Ecosystem are summarized."
   ]
  },
  {
   "cell_type": "markdown",
   "id": "c366f3fd-df59-4319-87fd-8809dc9b3d8e",
   "metadata": {},
   "source": [
    "Some of the popular languages that Data Scientists use are:\n",
    "\n",
    "1. R\n",
    "2. Python\n",
    "3. Javascript"
   ]
  },
  {
   "cell_type": "markdown",
   "id": "17441240-463d-4801-9407-f64dc635e8ae",
   "metadata": {},
   "source": [
    "Some of the commonly used libraries used by Data Scientists include:\n",
    "\n",
    "1. Pandas\n",
    "2. Numpy\n",
    "3. Scikit"
   ]
  },
  {
   "cell_type": "code",
   "execution_count": null,
   "id": "fba32040-42dc-4853-81c0-5e6b0a500676",
   "metadata": {},
   "outputs": [],
   "source": []
  },
  {
   "cell_type": "markdown",
   "id": "1b66b604-c807-4944-b02b-03465cb63d81",
   "metadata": {},
   "source": [
    "|Data Science Tools|\n",
    "----\n",
    "Tensorflow\n",
    "VStudio\n",
    "Rstudio"
   ]
  },
  {
   "cell_type": "markdown",
   "id": "41d18edc-0b17-4448-9207-085bdaddd617",
   "metadata": {},
   "source": [
    "### Below are a few examples of evaluating arithmetic expressions in Python"
   ]
  },
  {
   "cell_type": "code",
   "execution_count": 7,
   "id": "c8a1a166-5f18-4d58-aa07-0225a9deda41",
   "metadata": {
    "tags": []
   },
   "outputs": [
    {
     "data": {
      "text/plain": [
       "17"
      ]
     },
     "execution_count": 7,
     "metadata": {},
     "output_type": "execute_result"
    }
   ],
   "source": [
    "#This a simple arithmetic expression to mutiply then add integers\n",
    "(3*4)+5"
   ]
  },
  {
   "cell_type": "code",
   "execution_count": 8,
   "id": "6be0ca27-c590-415e-a532-fcdf126b1d99",
   "metadata": {
    "tags": []
   },
   "outputs": [
    {
     "data": {
      "text/plain": [
       "3.3333333333333335"
      ]
     },
     "execution_count": 8,
     "metadata": {},
     "output_type": "execute_result"
    }
   ],
   "source": [
    "#This will convert 200 minutes to hours by diving by 60\n",
    "200/60"
   ]
  },
  {
   "cell_type": "markdown",
   "id": "eca3c4f1-dbaa-48d7-a646-3320a4c23e0c",
   "metadata": {},
   "source": [
    "**Objectives:**\n",
    "\n",
    "- Python\n",
    "- R\n",
    "- GitHub\n",
    "- Git\n",
    "\n"
   ]
  },
  {
   "cell_type": "markdown",
   "id": "0573be5c-ee2b-40f1-8382-ea6772aaf895",
   "metadata": {},
   "source": [
    "## Author\n",
    "Insha"
   ]
  },
  {
   "cell_type": "code",
   "execution_count": null,
   "id": "c94f93b1-a215-46cd-ac39-10837b21774c",
   "metadata": {},
   "outputs": [],
   "source": []
  }
 ],
 "metadata": {
  "kernelspec": {
   "display_name": "Python",
   "language": "python",
   "name": "conda-env-python-py"
  },
  "language_info": {
   "codemirror_mode": {
    "name": "ipython",
    "version": 3
   },
   "file_extension": ".py",
   "mimetype": "text/x-python",
   "name": "python",
   "nbconvert_exporter": "python",
   "pygments_lexer": "ipython3",
   "version": "3.7.12"
  }
 },
 "nbformat": 4,
 "nbformat_minor": 5
}
